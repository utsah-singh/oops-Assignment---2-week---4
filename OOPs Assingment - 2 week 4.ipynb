{
 "cells": [
  {
   "cell_type": "markdown",
   "id": "d121892c-edc1-4bae-b44d-2e103490614b",
   "metadata": {},
   "source": [
    "Answer = 1"
   ]
  },
  {
   "cell_type": "markdown",
   "id": "3d06f768-09d8-4808-88ec-2362abd66233",
   "metadata": {},
   "source": [
    "Abstraction is one of the fundamental principles of Object-Oriented Programming (OOP). It involves the concept of hiding the complex implementation details of an object and exposing only the essential features or functionalities. In other words, abstraction allows you to focus on what an object does rather than how it achieves its functionality.\n",
    "\n",
    "In Python, abstraction can be achieved through the use of abstract classes and abstract methods. An abstract class is a class that cannot be instantiated on its own and typically contains one or more abstract methods, which are declared but not implemented in the abstract class. The responsibility of providing the implementation for these abstract methods lies with the subclasses.\n",
    "\n",
    "Here's a simple example in Python to illustrate abstraction"
   ]
  },
  {
   "cell_type": "code",
   "execution_count": 2,
   "id": "7c4609eb-1295-4f9b-a755-7bd4ff7af811",
   "metadata": {},
   "outputs": [
    {
     "name": "stdout",
     "output_type": "stream",
     "text": [
      "Circle Area: 78.5\n",
      "Square Area: 16\n"
     ]
    }
   ],
   "source": [
    "from abc import ABC, abstractmethod\n",
    "\n",
    "# Define an abstract class with an abstract method\n",
    "class Shape(ABC):\n",
    "    @abstractmethod\n",
    "    def area(self):\n",
    "        pass\n",
    "\n",
    "# Create a concrete subclass that extends the abstract class\n",
    "class Circle(Shape):\n",
    "    def __init__(self, radius):\n",
    "        self.radius = radius\n",
    "\n",
    "    # Implement the abstract method\n",
    "    def area(self):\n",
    "        return 3.14 * self.radius * self.radius\n",
    "\n",
    "# Create another concrete subclass\n",
    "class Square(Shape):\n",
    "    def __init__(self, side):\n",
    "        self.side = side\n",
    "\n",
    "    # Implement the abstract method\n",
    "    def area(self):\n",
    "        return self.side * self.side\n",
    "\n",
    "# Create instances of the subclasses\n",
    "circle = Circle(5)\n",
    "square = Square(4)\n",
    "\n",
    "# Call the area method on the instances\n",
    "print(\"Circle Area:\", circle.area())  # Output: Circle Area: 78.5\n",
    "print(\"Square Area:\", square.area())  # Output: Square Area: 16"
   ]
  },
  {
   "cell_type": "markdown",
   "id": "8e7be78c-a37d-4f73-92d5-f659a3135697",
   "metadata": {},
   "source": [
    "In this example, the 'Shape' class is an abstract class with an abstract method 'area()'. The Circle a 'Square' classes are concrete subclasses that extend the Shape class and provide their implementations for the 'area()' method. This way, you can create objects of different shapes and use a common interface '(area()' method) to calculate their respective areas, demonstrating the concept of abstraction."
   ]
  },
  {
   "cell_type": "markdown",
   "id": "ecea508d-c38b-414b-8555-05dc385bb611",
   "metadata": {},
   "source": [
    "Answer = 2"
   ]
  },
  {
   "cell_type": "markdown",
   "id": "f6a7a188-b9e0-4fd5-9673-a09308099af9",
   "metadata": {},
   "source": [
    "Abstraction and encapsulation are two key concepts in object-oriented programming (OOP), but they serve different purposes."
   ]
  },
  {
   "cell_type": "markdown",
   "id": "1499655c-cba0-46d3-8139-990a85d5a438",
   "metadata": {},
   "source": [
    "Abstraction:"
   ]
  },
  {
   "cell_type": "markdown",
   "id": "0fedc8bd-d177-4612-a624-646a5a62dfec",
   "metadata": {},
   "source": [
    "Definition: Abstraction involves hiding the complex implementation details and showing only the essential features of an object.\n",
    "\n",
    "Purpose: It allows you to focus on what an object does without worrying about how it achieves its functionality."
   ]
  },
  {
   "cell_type": "markdown",
   "id": "ed77b899-119a-4fce-817a-9008349f83e4",
   "metadata": {},
   "source": [
    "Example in Python:\n"
   ]
  },
  {
   "cell_type": "code",
   "execution_count": 3,
   "id": "982eb4ab-678a-435d-ab1d-67c340110cea",
   "metadata": {},
   "outputs": [
    {
     "name": "stdout",
     "output_type": "stream",
     "text": [
      "Circle Area: 78.5\n",
      "Square Area: 16\n"
     ]
    }
   ],
   "source": [
    "from abc import ABC, abstractmethod\n",
    "\n",
    "class Shape(ABC):\n",
    "    @abstractmethod\n",
    "    def area(self):\n",
    "        pass\n",
    "\n",
    "class Circle(Shape):\n",
    "    def __init__(self, radius):\n",
    "        self.radius = radius\n",
    "\n",
    "    def area(self):\n",
    "        return 3.14 * self.radius * self.radius\n",
    "\n",
    "class Square(Shape):\n",
    "    def __init__(self, side):\n",
    "        self.side = side\n",
    "\n",
    "    def area(self):\n",
    "        return self.side * self.side\n",
    "\n",
    "# Using abstraction to create instances\n",
    "circle = Circle(5)\n",
    "square = Square(4)\n",
    "\n",
    "print(\"Circle Area:\", circle.area())  # Output: Circle Area: 78.5\n",
    "print(\"Square Area:\", square.area())  # Output: Square Area: 16"
   ]
  },
  {
   "cell_type": "markdown",
   "id": "b110a660-b2d5-4226-8373-07ab221b5842",
   "metadata": {},
   "source": [
    "Here, Shape is an abstract class providing an abstraction for different shapes. The concrete subclasses (Circle and Square) implement the abstract method area, allowing us to use a common interface for calculating the area of different shapes."
   ]
  },
  {
   "cell_type": "markdown",
   "id": "f768c7ba-4d1e-416d-b279-720da607d4ef",
   "metadata": {},
   "source": [
    "Encapsulation:"
   ]
  },
  {
   "cell_type": "markdown",
   "id": "68287ea8-99bc-41b9-9a4e-ea2b6b7478da",
   "metadata": {},
   "source": [
    "Definition: Encapsulation involves bundling the data (attributes) and methods (functions) that operate on the data into a single unit, i.e., a class.\n",
    "\n",
    "Purpose: It helps in hiding the internal details of an object and protecting the data from unauthorized access or modification.\n",
    "\n",
    "Example in Python:"
   ]
  },
  {
   "cell_type": "code",
   "execution_count": 4,
   "id": "0d6cb6e6-485e-478c-9d3c-05e5673df303",
   "metadata": {},
   "outputs": [
    {
     "name": "stdout",
     "output_type": "stream",
     "text": [
      "Name: John\n",
      "Age: 30\n"
     ]
    }
   ],
   "source": [
    "class Person:\n",
    "    def __init__(self, name, age):\n",
    "        self.__name = name  # Encapsulation - hiding attribute with double underscores\n",
    "        self.__age = age\n",
    "\n",
    "    def get_name(self):\n",
    "        return self.__name\n",
    "\n",
    "    def get_age(self):\n",
    "        return self.__age\n",
    "\n",
    "# Creating an instance\n",
    "person = Person(\"John\", 30)\n",
    "\n",
    "# Accessing attributes using encapsulation (get methods)\n",
    "print(\"Name:\", person.get_name())  # Output: Name: John\n",
    "print(\"Age:\", person.get_age())    # Output: Age: 30"
   ]
  },
  {
   "cell_type": "markdown",
   "id": "07f16d31-def9-48de-b479-c6386b40c80e",
   "metadata": {},
   "source": [
    "Here, Person class encapsulates the attributes __name and __age along with methods (get_name and get_age) to access them. The double underscores in the attribute names indicate that they are private, and access to them should be through the provided methods, demonstrating encapsulation.\n",
    "\n",
    "In summary, abstraction is about hiding complexity by providing a simplified interface, while encapsulation is about bundling data and methods together and controlling access to them. Together, they contribute to building modular and maintainable code in object-oriented programming."
   ]
  },
  {
   "cell_type": "markdown",
   "id": "6e5bd92c-7943-4a7f-812c-fb36cfaea75d",
   "metadata": {},
   "source": [
    "ANswer = 3"
   ]
  },
  {
   "cell_type": "markdown",
   "id": "d11805b5-f38f-4be2-9994-3d5c4cca2e85",
   "metadata": {},
   "source": [
    "The abc module in Python stands for \"Abstract Base Classes.\" It provides a mechanism for defining abstract base classes in Python. Abstract base classes '(ABCs)' are classes that cannot be instantiated on their own and are meant to be subclassed. The abc module provides the infrastructure for defining and working with abstract classes and abstract methods."
   ]
  },
  {
   "cell_type": "markdown",
   "id": "fe5b9b0a-0b41-4783-9292-5832395e82ad",
   "metadata": {},
   "source": [
    "ABCs (Abstract Base Classes): The 'abc' module allows you to define abstract base classes using the 'ABC' metaclass. An abstract base class is a class that defines one or more abstract methods, and any concrete subclass must implement these abstract methods."
   ]
  },
  {
   "cell_type": "code",
   "execution_count": 9,
   "id": "7d6e77ca-5112-460a-9c48-8dee8261d0d7",
   "metadata": {},
   "outputs": [],
   "source": [
    "from abc import ABC, abstractmethod\n",
    "\n",
    "class MyABC(ABC):\n",
    "    @abstractmethod\n",
    "    def my_method(self):\n",
    "        pass"
   ]
  },
  {
   "cell_type": "markdown",
   "id": "3ade3713-4e8e-4efc-b954-fe4e921c1ea5",
   "metadata": {},
   "source": [
    "abstractmethod Decorator: The abstractmethod decorator is used to declare abstract methods within abstract base classes. It indicates that any concrete subclass must provide an implementation for these methods."
   ]
  },
  {
   "cell_type": "code",
   "execution_count": 10,
   "id": "83563d87-f68b-4e51-b8b3-df1faec5a5c9",
   "metadata": {},
   "outputs": [
    {
     "name": "stdout",
     "output_type": "stream",
     "text": [
      "Implementation of my_method\n"
     ]
    }
   ],
   "source": [
    "class MyConcreteClass(MyABC):\n",
    "    def my_method(self):\n",
    "        print(\"Implementation of my_method\")\n",
    "\n",
    "# Creating an instance\n",
    "obj = MyConcreteClass()\n",
    "obj.my_method()  # Output: Implementation of my_method"
   ]
  },
  {
   "cell_type": "markdown",
   "id": "f4130be5-2451-40e0-ac9c-0552cff91605",
   "metadata": {},
   "source": [
    "Enforcing Interface: The abc module helps in enforcing a common interface among related classes. By defining abstract methods in an abstract base class, you ensure that all subclasses implement these methods, providing a consistent interface.\n",
    "\n",
    "register Function: The abc module provides the register function, which allows classes or functions to be registered as implementations of a particular abstract class or interface."
   ]
  },
  {
   "cell_type": "code",
   "execution_count": 11,
   "id": "163fc551-90ec-4364-9751-c69bfd57fdba",
   "metadata": {},
   "outputs": [
    {
     "name": "stdout",
     "output_type": "stream",
     "text": [
      "Implementation of my_method in MyImplementation\n"
     ]
    }
   ],
   "source": [
    "from abc import ABC, abstractmethod\n",
    "\n",
    "class MyABC(ABC):\n",
    "    @abstractmethod\n",
    "    def my_method(self):\n",
    "        pass\n",
    "\n",
    "@MyABC.register\n",
    "class MyImplementation:\n",
    "    def my_method(self):\n",
    "        print(\"Implementation of my_method in MyImplementation\")\n",
    "\n",
    "obj = MyImplementation()\n",
    "obj.my_method()  # Output: Implementation of my_method in MyImplementation"
   ]
  },
  {
   "cell_type": "markdown",
   "id": "811846ad-8b2d-4b8f-b4f1-88e456b32527",
   "metadata": {},
   "source": [
    "The 'abc' module promotes code design by encouraging the use of abstract classes and interfaces, making it clear what methods should be implemented in concrete subclasses. This helps in creating modular and maintainable code and provides a level of documentation about the expected behavior of classes that implement the abstract interface."
   ]
  },
  {
   "cell_type": "markdown",
   "id": "8f2dec24-3048-4a12-9db0-880f61ca456a",
   "metadata": {},
   "source": [
    "Answer = 4"
   ]
  },
  {
   "cell_type": "markdown",
   "id": "8c428f61-c689-4abf-bf31-4596a1f55b94",
   "metadata": {},
   "source": [
    "\n",
    "Data abstraction in Python can be achieved through the use of classes and objects, encapsulation, and abstract data types. Here are some key concepts and practices to achieve data abstraction:"
   ]
  },
  {
   "cell_type": "markdown",
   "id": "d9edcfef-6f93-4ad2-8d3d-18d1d177b638",
   "metadata": {},
   "source": [
    "Classes and Objects:\n",
    "\n",
    "Define a class to represent a data type or an entity.\n",
    "Use attributes (variables) to represent the data associated with the class.\n",
    "Use methods (functions) to define operations that can be performed on the data.\n"
   ]
  },
  {
   "cell_type": "code",
   "execution_count": 12,
   "id": "cdecb989-8add-4653-b709-60046b94d813",
   "metadata": {},
   "outputs": [
    {
     "name": "stdout",
     "output_type": "stream",
     "text": [
      "Toyota\n",
      "Camry\n",
      "Toyota Camry\n"
     ]
    }
   ],
   "source": [
    "class Car:\n",
    "    def __init__(self, brand, model):\n",
    "        self.brand = brand\n",
    "        self.model = model\n",
    "\n",
    "    def display_info(self):\n",
    "        print(f\"{self.brand} {self.model}\")\n",
    "\n",
    "# Creating an instance of the class\n",
    "my_car = Car(\"Toyota\", \"Camry\")\n",
    "\n",
    "# Accessing data and invoking methods\n",
    "print(my_car.brand)      # Output: Toyota\n",
    "print(my_car.model)      # Output: Camry\n",
    "my_car.display_info()    # Output: Toyota Camry"
   ]
  },
  {
   "cell_type": "markdown",
   "id": "0c9ea65b-da24-4f85-ade9-b1861c39aca7",
   "metadata": {},
   "source": [
    "Encapsulation:"
   ]
  },
  {
   "cell_type": "markdown",
   "id": "34f27970-3103-49ca-92b2-29b2da94d1cd",
   "metadata": {},
   "source": [
    "Use encapsulation to hide the internal details of the class and restrict direct access to attributes.\n",
    "Provide methods (getters and setters) to access and modify the attributes, controlling how data is accessed and modified."
   ]
  },
  {
   "cell_type": "code",
   "execution_count": 13,
   "id": "b08fcb8f-00e6-41ea-8e88-b021a7209d9f",
   "metadata": {},
   "outputs": [
    {
     "name": "stdout",
     "output_type": "stream",
     "text": [
      "1000\n",
      "1500\n",
      "Insufficient funds\n"
     ]
    }
   ],
   "source": [
    "class BankAccount:\n",
    "    def __init__(self, balance):\n",
    "        self.__balance = balance  # Encapsulated attribute\n",
    "\n",
    "    def get_balance(self):\n",
    "        return self.__balance\n",
    "\n",
    "    def deposit(self, amount):\n",
    "        self.__balance += amount\n",
    "\n",
    "    def withdraw(self, amount):\n",
    "        if amount <= self.__balance:\n",
    "            self.__balance -= amount\n",
    "        else:\n",
    "            print(\"Insufficient funds\")\n",
    "\n",
    "# Creating an instance of the class\n",
    "account = BankAccount(1000)\n",
    "\n",
    "# Accessing and modifying data through methods\n",
    "print(account.get_balance())  # Output: 1000\n",
    "account.deposit(500)\n",
    "print(account.get_balance())  # Output: 1500\n",
    "account.withdraw(2000)        # Output: Insufficient funds"
   ]
  },
  {
   "cell_type": "markdown",
   "id": "414eb05b-7ba5-478a-a938-02398c50ef19",
   "metadata": {},
   "source": [
    "Abstract Data Types:"
   ]
  },
  {
   "cell_type": "markdown",
   "id": "ef23eb4e-5d8d-4e08-b6f5-dc69c6fa4d5c",
   "metadata": {},
   "source": [
    "Define abstract data types using classes and abstract methods.\n",
    "Encourage the use of abstract classes to declare methods that must be implemented by concrete subclasses, ensuring a common interface."
   ]
  },
  {
   "cell_type": "code",
   "execution_count": null,
   "id": "1a6643ca-3bc6-42e0-8b31-94a208257da7",
   "metadata": {},
   "outputs": [],
   "source": [
    "from abc import ABC, abstractmethod\n",
    "\n",
    "class AbstractStack(ABC):\n",
    "    @abstractmethod\n",
    "    def push(self, item):\n",
    "        pass\n",
    "\n",
    "    @abstractmethod\n",
    "    def pop(self):\n",
    "        pass\n",
    "\n",
    "class Stack(AbstractStack):\n",
    "    def __init__(self):\n",
    "        self.items = []\n",
    "\n",
    "    def push(self, item):\n",
    "        self.items.append(item)\n",
    "\n",
    "    def pop(self):\n",
    "        if not self.is_empty():\n",
    "            return self.items.pop()\n",
    "        else:\n",
    "            print(\"Stack is empty\")\n",
    "\n",
    "    def is_empty(self):\n",
    "        return len(self.items) == 0\n",
    "\n",
    "# Using the abstract data type\n",
    "stack = Stack()\n",
    "stack.push(10)\n",
    "stack.push(20)\n",
    "print(stack.pop())    # Output: 20\n",
    "print(stack.pop())    # Output: 10"
   ]
  },
  {
   "cell_type": "markdown",
   "id": "5ae4e97e-8eee-4ee1-b916-d5e2d33f3cbc",
   "metadata": {},
   "source": [
    "By combining classes, encapsulation, and abstract data types, you can achieve data abstraction in Python. This helps in organizing code, hiding implementation details, and providing a clear and consistent interface for working with data structures and entities."
   ]
  },
  {
   "cell_type": "markdown",
   "id": "4c24a52a-49d5-4a48-945b-8644fbe97dae",
   "metadata": {},
   "source": [
    "Answer = 5"
   ]
  },
  {
   "cell_type": "markdown",
   "id": "fd6b2e32-30e6-44c8-aba4-97ff3a450b24",
   "metadata": {},
   "source": [
    "No, you cannot create an instance of an abstract class in Python. An abstract class is meant to be a blueprint for other classes, and it typically contains one or more abstract methods, which are declared but not implemented in the abstract class itself.\n",
    "\n",
    "In Python, abstract classes are defined using the ABC (Abstract Base Class) module, and abstract methods are declared using the @abstractmethod decorator. Here's an example:"
   ]
  },
  {
   "cell_type": "code",
   "execution_count": 15,
   "id": "1ecf99cd-c543-4c01-b8fb-1f91ba8d8db1",
   "metadata": {},
   "outputs": [],
   "source": [
    "from abc import ABC, abstractmethod\n",
    "\n",
    "class MyAbstractClass(ABC):\n",
    "    @abstractmethod\n",
    "    def my_abstract_method(self):\n",
    "        pass"
   ]
  },
  {
   "cell_type": "markdown",
   "id": "babf4918-7eab-4123-8163-eb2487d5be49",
   "metadata": {},
   "source": [
    "In the example above, MyAbstractClass is an abstract class with one abstract method, my_abstract_method. Since the method is declared as abstract, it does not have an implementation in the abstract class.\n",
    "\n",
    "If you try to create an instance of this abstract class directly, you will encounter a TypeError:"
   ]
  },
  {
   "cell_type": "markdown",
   "id": "c1b03590-7ba4-404d-90fa-f66b37ae38b9",
   "metadata": {},
   "source": [
    "# Attempt to create an instance of an abstract class\n",
    "instance = MyAbstractClass()  # TypeError: Can't instantiate abstract class MyAbstractClass with abstract methods my_abstract_method"
   ]
  },
  {
   "cell_type": "markdown",
   "id": "2c47450e-2ea9-44a8-920c-0690bb99ae4e",
   "metadata": {},
   "source": [
    "Attempting to create an instance of an abstract class results in a TypeError stating that you can't instantiate an abstract class with abstract methods. This is by design, as abstract classes are meant to be subclassed, and concrete subclasses are responsible for providing implementations for the abstract methods.\n",
    "\n",
    "To use the functionality of an abstract class, you should create a concrete subclass that inherits from the abstract class and provides implementations for all its abstract methods. Instances of the concrete subclass can then be created and used:\n",
    "\n"
   ]
  },
  {
   "cell_type": "code",
   "execution_count": 17,
   "id": "75973071-47b7-4305-a5d0-a2f58e6142cf",
   "metadata": {},
   "outputs": [
    {
     "name": "stdout",
     "output_type": "stream",
     "text": [
      "Implementation of my_abstract_method\n"
     ]
    }
   ],
   "source": [
    "class MyConcreteClass(MyAbstractClass):\n",
    "    def my_abstract_method(self):\n",
    "        print(\"Implementation of my_abstract_method\")\n",
    "\n",
    "# Creating an instance of the concrete subclass\n",
    "concrete_instance = MyConcreteClass()\n",
    "concrete_instance.my_abstract_method()  # Output: Implementation of my_abstract_method"
   ]
  },
  {
   "cell_type": "markdown",
   "id": "295636a8-1f7c-4ad7-8a8b-55b7e92e4abd",
   "metadata": {},
   "source": [
    "In summary, abstract classes in Python serve as a template for concrete subclasses and are not meant to be instantiated directly. Instances should be created from concrete subclasses that provide implementations for all abstract methods.\n",
    "\n",
    "\n",
    "\n",
    "\n",
    "\n"
   ]
  },
  {
   "cell_type": "code",
   "execution_count": null,
   "id": "dc301d58-0ca7-43fa-bfc1-77a79b719ae3",
   "metadata": {},
   "outputs": [],
   "source": []
  }
 ],
 "metadata": {
  "kernelspec": {
   "display_name": "Python 3 (ipykernel)",
   "language": "python",
   "name": "python3"
  },
  "language_info": {
   "codemirror_mode": {
    "name": "ipython",
    "version": 3
   },
   "file_extension": ".py",
   "mimetype": "text/x-python",
   "name": "python",
   "nbconvert_exporter": "python",
   "pygments_lexer": "ipython3",
   "version": "3.10.8"
  }
 },
 "nbformat": 4,
 "nbformat_minor": 5
}
